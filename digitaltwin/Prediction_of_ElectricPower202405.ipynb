{
 "cells": [
  {
   "cell_type": "code",
   "execution_count": null,
   "metadata": {
    "collapsed": true
   },
   "outputs": [],
   "source": [
    "import pandas as pd\n",
    "from sklearn.linear_model import LinearRegression\n",
    "\n",
    "# 데이터 로드\n",
    "df = pd.read_csv('시군구별전력사용량.csv', encoding='cp949')  # encoding='cp949' 추가\n",
    "\n",
    "# 필요한 열 선택 및 조건 필터링\n",
    "df = df[['시도', '시군구', '계약종별', '1월', '2월', '3월', '4월', '5월']]\n",
    "df = df[df['계약종별'] == '합 계']\n",
    "\n",
    "# 결과 저장할 리스트\n",
    "results = []\n",
    "\n",
    "for index, row in df.iterrows():\n",
    "    # 1월부터 4월까지 데이터를 사용하여 5월 예측\n",
    "    X = [[1], [2], [3], [4]]  # 월\n",
    "    y = [row['1월'], row['2월'], row['3월'], row['4월']]\n",
    "    model = LinearRegression()\n",
    "    model.fit(X, y)\n",
    "\n",
    "    # 5월 예측\n",
    "    predicted_may = model.predict([[5]])[0]\n",
    "\n",
    "    # 실제 5월 값\n",
    "    actual_may = row['5월']\n",
    "\n",
    "    # 결과 저장\n",
    "    results.append({\n",
    "        '시도': row['시도'],\n",
    "        '시군구': row['시군구'],\n",
    "        '예측값': np.floor(predicted_may),\n",
    "        '실제값': actual_may,\n",
    "        '오차': np.floor(abs(predicted_may - actual_may))\n",
    "    })\n",
    "\n",
    "# 결과를 DataFrame으로 변환\n",
    "result_df = pd.DataFrame(results)\n",
    "\n",
    "# 결과 출력 또는 저장\n",
    "result_df\n",
    "# result_df.to_csv('prediction_results.csv', index=False)"
   ]
  }
 ],
 "metadata": {
  "kernelspec": {
   "display_name": "Python 3",
   "language": "python",
   "name": "python3"
  },
  "language_info": {
   "codemirror_mode": {
    "name": "ipython",
    "version": 2
   },
   "file_extension": ".py",
   "mimetype": "text/x-python",
   "name": "python",
   "nbconvert_exporter": "python",
   "pygments_lexer": "ipython2",
   "version": "2.7.6"
  }
 },
 "nbformat": 4,
 "nbformat_minor": 0
}
